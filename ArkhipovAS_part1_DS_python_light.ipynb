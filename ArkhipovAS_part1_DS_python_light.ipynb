{
  "nbformat": 4,
  "nbformat_minor": 0,
  "metadata": {
    "colab": {
      "provenance": [],
      "collapsed_sections": []
    },
    "kernelspec": {
      "name": "python3",
      "display_name": "Python 3"
    },
    "language_info": {
      "name": "python"
    }
  },
  "cells": [
    {
      "cell_type": "markdown",
      "source": [
        "1. Вычисление обратной матрицы.\n",
        "Реализован весь требуемый функционал.\n",
        "Дополнительно реализован \"табличный\" формат вывода, проверка корректности данных, обработка исключений."
      ],
      "metadata": {
        "id": "qfb1oIuHby43"
      }
    },
    {
      "cell_type": "code",
      "execution_count": null,
      "metadata": {
        "id": "-_lwYFBnej4U"
      },
      "outputs": [],
      "source": [
        "def GetA_1_with_console_output(): # Вычисление обратной матрицы\n",
        "    '''\n",
        "    Функция выводит в консоль матрицу обратную к входной:\n",
        "    Вход: певая строка: 2 числа через запятую - размерность матрицы\n",
        "          следующие n строк: элементы матрицы через запятую\n",
        "    Вывод:\n",
        "          Матрица, обратная к данной\n",
        "    '''\n",
        "    import copy\n",
        "    def GetDeterminant(A): # Вычисление определителя\n",
        "        if len(A) == 1:\n",
        "            return A[0][0]\n",
        "        if len(A) == 2 and len(A[0]) == 2 and len(A[1]) == 2:\n",
        "            return A[0][0] * A[1][1] - A[1][0] * A[0][1]\n",
        "        else:\n",
        "            determinant = 0\n",
        "            for i in range(len(A[0])):\n",
        "                A_temp = copy.deepcopy(A[1:])\n",
        "                for j in range(len(A_temp)):\n",
        "                    if i != len(A_temp[j]) - 1:\n",
        "                        A_temp[j] = A_temp[j][:i] + A_temp[j][i + 1:]\n",
        "                    else:\n",
        "                        A_temp[j] = A_temp[j][:i]\n",
        "\n",
        "                determinant += (-1) ** (i) * (A[0][i]) * GetDeterminant(A_temp)\n",
        "            return determinant\n",
        "\n",
        "    def GetAlgAddition(A, i, j): # Вычисление алгебраического дополнения\n",
        "        res_A = copy.deepcopy(A)\n",
        "        if i != len(res_A) - 1:\n",
        "            res_A = res_A[:i] + res_A[i + 1:]\n",
        "        else:\n",
        "            res_A = res_A[:i]\n",
        "        for k in range(len(res_A)):\n",
        "            if j != len(res_A[k]) - 1:\n",
        "                res_A[k] = res_A[k][:j] + res_A[k][j + 1:]\n",
        "            else:\n",
        "                res_A[k] = res_A[k][:j]\n",
        "        return (-1) ** (i + j) * GetDeterminant(res_A)\n",
        "\n",
        "    def Print(A): # \"Красивый\" вывод результата в консоль\n",
        "        l_max = 0\n",
        "        for i in range(len(A)):\n",
        "            if l_max < max(list(map(len, list(map(str, A[i]))))):\n",
        "                l_max = max(list(map(len, list(map(str, A[i])))))\n",
        "        for i in range(len(A)):\n",
        "            for j in range(len(A[i])):\n",
        "                if A[i][j] < 0:\n",
        "                    print(str(A[i][j]) + (' ' * int(l_max - len(str(A[i][j])))), end=' ')\n",
        "                else:\n",
        "                    print(' ' + str(A[i][j]) + (' ' * int(l_max - len(str(A[i][j])))), end = '')\n",
        "            print()\n",
        "    #Тело GetA_1_with_console_output()\n",
        "    try:\n",
        "        n = list(map(int, input().split(',')))\n",
        "    except:\n",
        "        print('GetA_1Error : IncoorectInput(Matrix size should be separeted by \",\")')\n",
        "        return\n",
        "    if n[0] != n[1] or n[0] <= 1:\n",
        "        print('GetA_1Error : IncoorectInput(Matrix should be square)')\n",
        "        return\n",
        "    A = []\n",
        "    for i in range(n[0]):\n",
        "        try:\n",
        "            A.append(list(map(float, input().split(','))))\n",
        "        except:\n",
        "            print('GetA_1Error : IncoorectInput(Matrix values should be separeted by \",\")')\n",
        "            return\n",
        "        if len(A[-1]) != n[1]:\n",
        "            print('GetA_1Error : IncoorectInput(Matrix size is ' + str(n[0]) + 'x' + str(n[1]) + ')')\n",
        "            return\n",
        "\n",
        "    for i in range(len(A)):\n",
        "        if len(A[i]) != len(A):\n",
        "            print('GetA_1Error : IncoorectInput')\n",
        "            return\n",
        "    det = GetDeterminant(A)\n",
        "    if det == 0:\n",
        "        print('detA = 0')\n",
        "        return\n",
        "    else:\n",
        "        Aobr = copy.deepcopy(A)\n",
        "        for i in range(len(A)):\n",
        "            for j in range(len(A)):\n",
        "                Aobr[i][j] = round(GetAlgAddition(A, j, i) / det, 5)\n",
        "    Print(Aobr)\n",
        "    return"
      ]
    },
    {
      "cell_type": "code",
      "source": [
        "GetA_1_with_console_output.__doc__"
      ],
      "metadata": {
        "id": "fRN3ca3Ui7kO",
        "colab": {
          "base_uri": "https://localhost:8080/",
          "height": 54
        },
        "outputId": "24c07fe3-218c-49ae-aee2-a360b77828d5"
      },
      "execution_count": null,
      "outputs": [
        {
          "output_type": "execute_result",
          "data": {
            "text/plain": [
              "'\\n    Функция выводит в консоль матрицу обратную к входной:\\n    Вход: певая строка: 2 числа через запятую - размерность матрицы\\n          следующие n строк: элементы матрицы через запятую\\n    Вывод:\\n          Матрица, обратная к данной\\n    '"
            ],
            "application/vnd.google.colaboratory.intrinsic+json": {
              "type": "string"
            }
          },
          "metadata": {},
          "execution_count": 15
        }
      ]
    },
    {
      "cell_type": "code",
      "source": [
        "GetA_1_with_console_output()"
      ],
      "metadata": {
        "colab": {
          "base_uri": "https://localhost:8080/"
        },
        "id": "mD-HLlwRey1o",
        "outputId": "88700cdc-2313-45c3-ee26-b1063cd0ad65"
      },
      "execution_count": null,
      "outputs": [
        {
          "output_type": "stream",
          "name": "stdout",
          "text": [
            "3,3\n",
            "-1,2,-2\n",
            "2,-1,5\n",
            "3,-2,4\n",
            " 0.6 -0.4  0.8 \n",
            " 0.7  0.2  0.1 \n",
            "-0.1  0.4 -0.3 \n"
          ]
        }
      ]
    },
    {
      "cell_type": "markdown",
      "source": [
        "2. Структура данных \"MyDeque\" для работы с очередями, где объекты имеют\n",
        "приоритет.\n",
        "Реализован весь требуемый функционал.\n",
        "Дополнительно реализована возможность разбора более чем двух очередей одновременно (в тз представлен пример только для двух входных очередей).\n",
        "Реализованы проверки на корректность входных данных.\n",
        "Добавленная логика: \"\" < \"C\" : True; \"\" == \"\" : True; При попытке добавления в очередь символов != \"A\" или \"B\" или \"C\" -> требование игнорируется."
      ],
      "metadata": {
        "id": "yvwP8mqLgt0K"
      }
    },
    {
      "cell_type": "code",
      "source": [
        "class MyDeque:\n",
        "    '''\n",
        "    Структура данных содержит два поля: value:str и length:int.\n",
        "    При вызове консруктора по умолчанию - происходит инициализация со значениями value = \"\"; length = 0.\n",
        "    Реализованные методы: append(value) - добавить элемент в конец очереди; popFirst() - удалить первый элемент из очереди;\n",
        "    реализована перегрузка операторов <,>,== для класса MyDeque\n",
        "    '''\n",
        "    def __init__(self, value=''):\n",
        "        self.value = ''\n",
        "        self.length = len(self.value)\n",
        "        for i in value:\n",
        "            if i in ('A', 'B', 'C'):\n",
        "                self.value += i\n",
        "                self.length = len(self.value)\n",
        "            else:\n",
        "                break\n",
        "\n",
        "    def append(self, value): #добавление элемента в конец очереди\n",
        "        if value in ('A', 'B', 'C'):\n",
        "            self.value += value\n",
        "            self.length = len(self.value)\n",
        "\n",
        "    def popFirst(self): #удаление первого элемента в очереди\n",
        "        if self.length > 0:\n",
        "            self.value = self.value[1:]\n",
        "            self.length = len(self.value)\n",
        "\n",
        "    def __gt__(self, other):\n",
        "        if self.length > 0 and other.length > 0:\n",
        "            if type(self) == type(other):\n",
        "                if self.length == other.length:\n",
        "                    if self.value[0] == other.value[0]:\n",
        "                        return False\n",
        "                    elif self.value[0] == 'A':\n",
        "                        return True\n",
        "                    elif self.value[0] == 'B' and other.value[0] == 'C':\n",
        "                        return True\n",
        "                    elif self.value[0] == 'B' and other.value[0] == 'A':\n",
        "                        return False\n",
        "                    elif self.value[0] == 'C':\n",
        "                        return False\n",
        "                    else:\n",
        "                        return 'Incorrect value of MyDeque'\n",
        "                else:\n",
        "                    return self.length > other.length\n",
        "            else:\n",
        "                return False\n",
        "        elif self.length > 0 and other.length == 0:\n",
        "            return True\n",
        "        else:\n",
        "            return False\n",
        "\n",
        "    def __lt__(self, other):\n",
        "        if type(self) == type(other):\n",
        "            return other > self\n",
        "        else:\n",
        "            return False\n",
        "\n",
        "    def __eq__(self, other):\n",
        "        if type(self) == type(other):\n",
        "            if self.length > 0 and other.length > 0:\n",
        "                if (self.value[0] == other.value[0]) and (self.length == other.length):\n",
        "                    return True\n",
        "                else:\n",
        "                    return False\n",
        "            elif self.length == 0 and other.length == 0:\n",
        "                return True\n",
        "            else:\n",
        "                return False\n",
        "        else:\n",
        "            return False\n",
        "\n",
        "\n",
        "def parse_deques(deque1, deque2): #функция, реализующая разбор 2-х очередей deque1 и deque2\n",
        "    if type(deque1) == type(deque2) and type(deque1) == MyDeque:\n",
        "        while deque1.length != 0 or deque2.length != 0:\n",
        "            if deque1 > deque2:\n",
        "                print(deque1.value[0])\n",
        "                deque1.popFirst()\n",
        "            elif deque2 > deque1:\n",
        "                print(deque2.value[0])\n",
        "                deque2.popFirst()\n",
        "            else:\n",
        "                print(deque1.value[0])\n",
        "                deque1.popFirst()\n",
        "        return\n",
        "    else:\n",
        "        return 'Incorrect input types'\n",
        "\n",
        "\n",
        "def alt_parce_deques(*deques): #функция, реализующая разбор нескольких очередей *deques\n",
        "    for i in deques:\n",
        "        if type(i) != MyDeque:\n",
        "            return 'Incorrect input types'\n",
        "    flag = True\n",
        "    while flag:\n",
        "        print(max(deques).value[0])\n",
        "        max(deques).popFirst()\n",
        "        flag = False\n",
        "        for i in deques:\n",
        "            if i.length > 0:\n",
        "                flag = True"
      ],
      "metadata": {
        "id": "4Js8Rd38iPrX"
      },
      "execution_count": null,
      "outputs": []
    },
    {
      "cell_type": "code",
      "source": [
        "MyDeque.__doc__"
      ],
      "metadata": {
        "colab": {
          "base_uri": "https://localhost:8080/",
          "height": 71
        },
        "id": "TifrcVY0iTgC",
        "outputId": "76d9326e-5837-4953-9b7b-fffd863e1b42"
      },
      "execution_count": null,
      "outputs": [
        {
          "output_type": "execute_result",
          "data": {
            "text/plain": [
              "'\\n    Структура данных содержит два поля: value:str и length:int.\\n    При вызове консруктора по умолчанию - происходит инициализация со значениями value = \"\"; length = 0.\\n    Реализованные методы: append(value) - добавить элемент в конец очереди; popFirst() - удалить первый элемент из очереди;\\n    реализована перегрузка операторов <,>,== для класса MyDeque\\n    '"
            ],
            "application/vnd.google.colaboratory.intrinsic+json": {
              "type": "string"
            }
          },
          "metadata": {},
          "execution_count": 21
        }
      ]
    },
    {
      "cell_type": "markdown",
      "source": [
        "Пример использования:"
      ],
      "metadata": {
        "id": "8yQQ1m5viUHE"
      }
    },
    {
      "cell_type": "code",
      "source": [
        "a = MyDeque('AABB')\n",
        "b = MyDeque('BAAAA')\n",
        "print(a > b)\n",
        "alt_parce_deques(a,b)"
      ],
      "metadata": {
        "colab": {
          "base_uri": "https://localhost:8080/"
        },
        "id": "cPM0L4zEiV9C",
        "outputId": "98bdf6de-f890-4ef1-fdef-3e7b5a348951"
      },
      "execution_count": null,
      "outputs": [
        {
          "output_type": "stream",
          "name": "stdout",
          "text": [
            "False\n",
            "B\n",
            "A\n",
            "A\n",
            "A\n",
            "A\n",
            "A\n",
            "B\n",
            "A\n",
            "B\n"
          ]
        }
      ]
    },
    {
      "cell_type": "code",
      "source": [
        "a = MyDeque('AABB')\n",
        "b = MyDeque('BAAAA')\n",
        "c = MyDeque('ACAC')\n",
        "print(a == b)\n",
        "print(a < b)\n",
        "alt_parce_deques(a,b,c)"
      ],
      "metadata": {
        "colab": {
          "base_uri": "https://localhost:8080/"
        },
        "id": "-m00b5iJkZNE",
        "outputId": "aa44e562-6233-4f25-b1b6-2c7117dfea4e"
      },
      "execution_count": null,
      "outputs": [
        {
          "output_type": "stream",
          "name": "stdout",
          "text": [
            "False\n",
            "True\n",
            "B\n",
            "A\n",
            "A\n",
            "A\n",
            "A\n",
            "A\n",
            "C\n",
            "A\n",
            "A\n",
            "B\n",
            "A\n",
            "B\n",
            "C\n"
          ]
        }
      ]
    },
    {
      "cell_type": "markdown",
      "source": [
        "3. Рекомендации к \"корзине\" покупателя.\n",
        "Я решил для разнообразия сделать задачку через pandas.\n",
        "Логика: Для товаров в корзине находим товары, которые подходят имеющимся используя edges. Сортируем по полю \"степени совместимости товаров\" (3-е по счету поле из подсписков из edges) и добавляем в список рекомендации. Если не наралось 4 товара - добавляем наиболее популярные товары к списку рекомендации. Если все равно не набралось 4 товара (описано в последнем обзаце), то рекомендовать \"сколько набралось\"\n",
        "\n",
        "Есть расхождения с представленными в ТЗ примерами. (Везде в примерах  absent = [5,1,10])\n",
        "\n",
        "1. Корзина: [8, 2, 7] предлагаемая в ТЗ рекомендация: [7, 6, 4, 2]. В рекомендации товар \"7\" и \"2\", хотя в корзине они уже есть. Мне кажется это нелогичым. Поэтому моя функция предлагает рекомендацию: [6, 4, 3, 9]. \"6\",\"4\" на основе edges, а \"3\",\"9\" на основе freqs как наиболее популярные товары из тех, что мы уже не порекомендовали и не нахдящихся уже в корзине.\n",
        "\n",
        "2. Аналогично с корзиной:[6] из тестового примера. Предложенная рекомендация: [7, 6, 4, 2]. Товар \"6\" уже присутствует в корзине. Мной предлагается рекомендация: [7, 4, 2, 8]. Здесь товару \"6\" в edges не подходит ни один товар -> мы рекомендуем просто 4 самых популярных товара, которых еще нет у нас в корзине.\n",
        "\n",
        "3. На примере \"basket: [4, 8, 1, 9, 7] absent = [5,1,10] recs: [2, 3, 6]\" видно, что моя функция не может порекомендовать 4 товара, так как все оставшиеся товары, кроме рекомендованных либо недоступны (в absent), либо уже и так находятся в корзине(basket). В тестовом примере дана рекомендация [2, 3, 7, 6], хотя товар \"7\" уже и так находится в корзине. Я предлагаю не рекомендовать его, тк пользователь уже собирался купить его."
      ],
      "metadata": {
        "id": "4q_8hiLJmFy-"
      }
    },
    {
      "cell_type": "code",
      "source": [
        "edges = [\n",
        "[1,2,300],\n",
        "[1,4,150],\n",
        "[1,7,220],\n",
        "[2,1,100],\n",
        "[2,5,520],\n",
        "[2,10,110],\n",
        "[3,4,340],\n",
        "[4,1,150],\n",
        "[4,3,340],\n",
        "[5,2,520],\n",
        "[7,1,220],\n",
        "[9,10,230],\n",
        "[10,2,110],\n",
        "[10,9,230]\n",
        "]\n",
        "freqs = [\n",
        "[1, 1234],\n",
        "[2, 1505],\n",
        "[3, 900],\n",
        "[4, 2345],\n",
        "[5, 378],\n",
        "[6, 2998],\n",
        "[7, 5421],\n",
        "[8, 1323],\n",
        "[9, 708],\n",
        "[10, 1283]\n",
        "]"
      ],
      "metadata": {
        "id": "uVrdJpSg-_DP"
      },
      "execution_count": null,
      "outputs": []
    },
    {
      "cell_type": "code",
      "source": [
        "def GetRecs(basket, absent):\n",
        "    '''\n",
        "    Функция получения рекомендательной корзины. Вход: список basket, список absent.\n",
        "    Выход: вывод в консоль упорядоченного списка рекомендованнных товаров\n",
        "    '''\n",
        "    import pandas as pd\n",
        "    import numpy as np\n",
        "\n",
        "    def GetNotAbsentItems(absent):\n",
        "        '''\n",
        "        Функция для получения товаров, находящихся в наличии, на вход: список отсутствующих товаров\n",
        "        Выход: список edges, без записей с 0-ым отсутствующим элементом, аналогичный список freqs\n",
        "        '''\n",
        "        notAbsentFreqs = list(set(i for i in list(map(int, (np.array(freqs)[:, :1]))) if i not in absent))\n",
        "        notAbsentEdges = list(set(i for i in list(map(int, (np.array(edges)[:, :1]))) if i not in absent))\n",
        "        return notAbsentEdges, notAbsentFreqs\n",
        "\n",
        "    notAbsentEdges, notAbsentFreqs = GetNotAbsentItems(absent)\n",
        "    \n",
        "    #Выполняю join списков edges, freqs\n",
        "    df = pd.DataFrame()\n",
        "    df['Товар'] = list(map(int, (np.array(edges)[:, :1])))\n",
        "    df['Рекомендованный товар'] = list(map(int, (np.array(edges)[:, 1:2])))\n",
        "    df['Значение рекомендации'] = list(map(int, (np.array(edges)[:, 2:])))\n",
        "\n",
        "    freqs_df = pd.DataFrame()\n",
        "    freqs_df['Товар'] = list(map(int, (np.array(freqs)[:, :1])))\n",
        "    freqs_df['Популярность'] = list(map(int, (np.array(freqs)[:, 1:2])))\n",
        "\n",
        "    result_df = freqs_df.merge(df, on='Товар', how='left')\n",
        "    \n",
        "    #Отбираю товары, которые подходят к товарам в корзине и на основании этого попадут в рекомендацию\n",
        "    notAbsentEdges_AND_not_in_basket = [i for i in notAbsentEdges if i not in basket]\n",
        "\n",
        "    to_recomend = result_df[(result_df['Рекомендованный товар'].isin(notAbsentEdges)) & \\\n",
        "                            (result_df['Рекомендованный товар'].isin([i for i in notAbsentEdges if i not in basket]))]\n",
        "    to_recomend = to_recomend[to_recomend['Товар'].isin(basket)]\n",
        "\n",
        "    #Отбираю недостающие товары, имеющие высокую популярность и на основании этого они попадут в рекомендацию\n",
        "    to_freq_rec = result_df[result_df['Товар'].isin(notAbsentFreqs)].groupby('Товар') \\\n",
        "        .agg({'Популярность': pd.Series.mode}).reset_index()\n",
        "    to_freq_rec = to_freq_rec[to_freq_rec['Товар'].isin([i for i in notAbsentFreqs if i not in basket])]\n",
        "\n",
        "    #Получаю ранжированный список рекомендаций, но в нем присутствуют дубликаты\n",
        "    res_list = list(map(int, to_recomend['Рекомендованный товар'])) + \\\n",
        "               list(to_freq_rec.sort_values('Популярность', ascending=False)['Товар'])\n",
        "    \n",
        "    #Получаю ранжированный список рекомендаций, без повторений\n",
        "    final_res = []\n",
        "    for i in range(len(res_list)):\n",
        "        if res_list[i] not in final_res and len(final_res) < 4:\n",
        "            final_res.append(res_list[i])\n",
        "            \n",
        "    #Вывод результата в консоль\n",
        "    print('basket:', basket, 'recs:', final_res)\n",
        "    #return final_res\n",
        "    return"
      ],
      "metadata": {
        "id": "9pmp50uh-_ej"
      },
      "execution_count": null,
      "outputs": []
    },
    {
      "cell_type": "code",
      "source": [
        "GetRecs(basket = [5, 10, 8, 9], absent = [5,1,10])\n",
        "GetRecs(basket = [8, 2, 7], absent = [5,1,10]) # 1 номер в \"расхождениях из описания\" выше\n",
        "GetRecs(basket = [4, 8, 1, 9, 7], absent = [5,1,10]) #2 номер в \"расхождениях из описания\" выше\n",
        "GetRecs(basket = [10], absent = [5,1,10])\n",
        "GetRecs(basket = [6], absent = [5,1,10]) #3 номер в \"расхождениях из описания\" выше"
      ],
      "metadata": {
        "colab": {
          "base_uri": "https://localhost:8080/"
        },
        "id": "S8T_BQJX_E-y",
        "outputId": "a4fd8cf5-f1fc-4964-b4af-c0e69d1ad90b"
      },
      "execution_count": null,
      "outputs": [
        {
          "output_type": "stream",
          "name": "stdout",
          "text": [
            "basket: [5, 10, 8, 9] recs: [2, 7, 6, 4]\n",
            "basket: [8, 2, 7] recs: [6, 4, 3, 9]\n",
            "basket: [4, 8, 1, 9, 7] recs: [2, 3, 6]\n",
            "basket: [10] recs: [2, 9, 7, 6]\n",
            "basket: [6] recs: [7, 4, 2, 8]\n"
          ]
        }
      ]
    },
    {
      "cell_type": "markdown",
      "source": [
        "4 задача представлена в ноутбуке ArkhipovAS_part2 DS_python_light.ipynb"
      ],
      "metadata": {
        "id": "NdDuCgzkEt2f"
      }
    }
  ]
}